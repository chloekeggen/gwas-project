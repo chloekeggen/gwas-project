{
 "cells": [
  {
   "cell_type": "code",
   "execution_count": 29,
   "id": "e49ce237",
   "metadata": {},
   "outputs": [],
   "source": [
    "import os\n",
    "import pandas as pd\n",
    "import numpy as np\n",
    "\n",
    "def read_phenotype_data(file_path):\n",
    "    return pd.read_csv(file_path, delim_whitespace=True, names=[\"FID\", \"IID\", \"LDL\"])\n",
    "\n",
    "def read_genotype_data(file_path):\n",
    "    samples = (VCF(file_path)).samples\n",
    "    genotype_dict = {}\n",
    "\n",
    "    for data in VCF(file_path):\n",
    "        genotype_data = [gt[0] + gt[1] for gt in data.genotypes]\n",
    "        genotype_dict[data.ID] = genotype_data\n",
    "\n",
    "    genotype_data = pd.DataFrame(genotype_dict, index = samples)\n",
    "    return genotype_data"
   ]
  },
  {
   "cell_type": "code",
   "execution_count": 30,
   "id": "7cb5abf3",
   "metadata": {},
   "outputs": [],
   "source": [
    "# Filter SNPs based on criteria used by the Wellcome Trust Case Control Consortium (WTCCC) when conducting GWAS\n",
    "# The criteria for retaining a SNP are: HWE P-value ≥ 5.7 × 10−7, MSP ≤5% if MAF ≥ 5%, MSP ≤ 1%\n",
    "def filter_snps(genotype_df, maf_threshold = 0.05, missingness_proportion = 0.05):\n",
    "    maf = genotype_df.mean(axis = 0) / 2\n",
    "    snps = maf[maf > maf_threshold].index\n",
    "    missingness_prop = genotype_df.isnull().mean()\n",
    "    snps = snps.intersection(missingness_prop[missingness_prop < missingness_proportion].index)\n",
    "    return genotype_df[snps]\n",
    "\n"
   ]
  },
  {
   "cell_type": "code",
   "execution_count": 32,
   "id": "8fd78a1d",
   "metadata": {},
   "outputs": [
    {
     "name": "stdout",
     "output_type": "stream",
     "text": [
      "Original genotype data shape: (207, 843462)\n",
      "Phenotype data shape: (207, 3)\n"
     ]
    }
   ],
   "source": [
    "# Main function to perform GWAS data preprocessing\n",
    "def preprocess_gwas_data(phenotype_file, genotype_file):\n",
    "    phenotype_data = read_phenotype_data(phenotype_file)\n",
    "    genotype_data = read_genotype_data(genotype_file)\n",
    "    \n",
    "    # Perform QC\n",
    "    genotype_data = filter_snps(genotype_data)\n",
    "    \n",
    "    return phenotype_data, genotype_data\n",
    "    \n",
    "phenotype_file = os.path.expanduser(\"~/public/lab3/lab3_gwas.phen\")\n",
    "genotype_file = os.path.expanduser(\"~/public/lab3/lab3_gwas.vcf.gz\")\n",
    "\n",
    "phenotype_data, genotype_data = preprocess_gwas_data(phenotype_file, genotype_file)\n",
    "print(\"Genotype data info:\", genotype_data.shape)\n",
    "print(\"Phenotype data info:\", phenotype_data.shape)"
   ]
  }
 ],
 "metadata": {
  "kernelspec": {
   "display_name": "Python 3 (ipykernel)",
   "language": "python",
   "name": "python3"
  },
  "language_info": {
   "codemirror_mode": {
    "name": "ipython",
    "version": 3
   },
   "file_extension": ".py",
   "mimetype": "text/x-python",
   "name": "python",
   "nbconvert_exporter": "python",
   "pygments_lexer": "ipython3",
   "version": "3.9.5"
  }
 },
 "nbformat": 4,
 "nbformat_minor": 5
}
